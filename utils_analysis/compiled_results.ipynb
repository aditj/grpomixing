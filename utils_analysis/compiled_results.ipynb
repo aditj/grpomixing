{
 "cells": [
  {
   "cell_type": "code",
   "execution_count": 1,
   "metadata": {},
   "outputs": [],
   "source": [
    "import pandas as pd\n",
    "import os\n",
    "import json\n",
    "import numpy as np\n",
    "import tqdm\n",
    "import seaborn as sns\n",
    "import matplotlib.pyplot as plt"
   ]
  },
  {
   "cell_type": "code",
   "execution_count": 2,
   "metadata": {},
   "outputs": [],
   "source": [
    "STOPPING_CRITERIA=[\"end_token\", \"entropy_threshold\", \"max_rounds\"]\n",
    "ANSWER_HOW=[\"answer_first\", \"think_first\"]\n",
    "SAMPLING_STRATEGY=[\"nucleus\", \"top_k\"]\n",
    "AGGREGATION_STRATEGY=   [\"weighted_sum\", \"element_wise_max\", \"dirichlet\", \"second_moment\"]\n",
    "Ks=[1, 2, 4, 8]"
   ]
  },
  {
   "cell_type": "code",
   "execution_count": null,
   "metadata": {},
   "outputs": [
    {
     "name": "stdout",
     "output_type": "stream",
     "text": [
      "Total number of experiments:  768\n"
     ]
    },
    {
     "name": "stderr",
     "output_type": "stream",
     "text": [
      "  0%|          | 0/3 [00:00<?, ?it/s]"
     ]
    },
    {
     "name": "stdout",
     "output_type": "stream",
     "text": [
      "Directory ../soft_thinking/generation_comparison/end_token_answer_first_nucleus_weighted_sum_k1/Qwen_Qwen2_5_3B_Instruct/3000_200_0.8 does not exist\n"
     ]
    },
    {
     "name": "stderr",
     "output_type": "stream",
     "text": [
      "100%|██████████| 4/4 [00:05<00:00,  1.34s/it]\n"
     ]
    },
    {
     "name": "stdout",
     "output_type": "stream",
     "text": [
      "Directory ../soft_thinking/generation_comparison/end_token_answer_first_nucleus_weighted_sum_k2/Qwen_Qwen2_5_3B_Instruct/3000_200_0.8 does not exist\n"
     ]
    },
    {
     "name": "stderr",
     "output_type": "stream",
     "text": [
      "100%|██████████| 4/4 [00:05<00:00,  1.32s/it]\n"
     ]
    },
    {
     "name": "stdout",
     "output_type": "stream",
     "text": [
      "Directory ../soft_thinking/generation_comparison/end_token_answer_first_nucleus_weighted_sum_k4/Qwen_Qwen2_5_3B_Instruct/3000_200_0.8 does not exist\n"
     ]
    },
    {
     "name": "stderr",
     "output_type": "stream",
     "text": [
      "100%|██████████| 4/4 [00:05<00:00,  1.25s/it]\n"
     ]
    },
    {
     "name": "stdout",
     "output_type": "stream",
     "text": [
      "Directory ../soft_thinking/generation_comparison/end_token_answer_first_nucleus_weighted_sum_k8/Qwen_Qwen2_5_3B_Instruct/3000_200_0.8 does not exist\n"
     ]
    },
    {
     "name": "stderr",
     "output_type": "stream",
     "text": [
      "100%|██████████| 4/4 [00:05<00:00,  1.28s/it]\n"
     ]
    },
    {
     "name": "stdout",
     "output_type": "stream",
     "text": [
      "Directory ../soft_thinking/generation_comparison/end_token_answer_first_nucleus_element_wise_max_k1/Qwen_Qwen2_5_3B_Instruct/3000_200_0.8 does not exist\n"
     ]
    },
    {
     "name": "stderr",
     "output_type": "stream",
     "text": [
      "100%|██████████| 4/4 [09:48<00:00, 147.10s/it]\n"
     ]
    },
    {
     "name": "stdout",
     "output_type": "stream",
     "text": [
      "Directory ../soft_thinking/generation_comparison/end_token_answer_first_nucleus_element_wise_max_k2/Qwen_Qwen2_5_3B_Instruct/3000_200_0.8 does not exist\n"
     ]
    },
    {
     "name": "stderr",
     "output_type": "stream",
     "text": []
    }
   ],
   "source": [
    "main_dir = \"../soft_thinking/generation_comparison\"\n",
    "models = [\n",
    " #   \"microsoft_phi_4_mini_instruct\",\n",
    "#    \"microsoft_phi_4_mini_reasoning\",\n",
    "    \"Qwen_Qwen2_5_3B_Instruct\",\n",
    "    \"Qwen_Qwen2_5_0_5B_Instruct\",\n",
    "    \"Qwen_Qwen3_0_6B\",\n",
    "    \"Qwen_Qwen3_1_7B\",\n",
    "    # \"Qwen_Qwen3_4B\"\n",
    "]\n",
    "config =\"3000_200_0.8\"\n",
    "def compute_entropy(phase_data):\n",
    "    all_entropies = []\n",
    "    for data_point in phase_data:\n",
    "        if \"phase1_token_ids\" in data_point and data_point[\"phase1_token_ids\"]:\n",
    "            for tokens in data_point[\"phase1_token_ids\"]:\n",
    "                weights = tokens[1]          \n",
    "                if np.sum(weights) > 0:\n",
    "                    probabilities = weights / np.sum(weights)\n",
    "                    probabilities = probabilities[probabilities > 0]\n",
    "                    entropy = -np.sum(probabilities * np.log2(probabilities))\n",
    "                    all_entropies.append(entropy)\n",
    "                else:\n",
    "                    all_entropies.append(0)\n",
    "        else:\n",
    "            all_entropies.append(0)\n",
    "    if all_entropies:\n",
    "        return np.mean(all_entropies)\n",
    "    else:\n",
    "        return 0\n",
    "def compute_length(phase_data):\n",
    "    all_lengths = []\n",
    "    for data_point in phase_data:\n",
    "        if \"phase1_token_ids\" in data_point and data_point[\"phase1_token_ids\"]:\n",
    "            all_lengths.append(len(data_point[\"phase1_token_ids\"]))\n",
    "    return np.mean(all_lengths)\n",
    "exp_results = []\n",
    "print(\"Total number of experiments: \", len(STOPPING_CRITERIA)*len(ANSWER_HOW)*len(SAMPLING_STRATEGY)*len(AGGREGATION_STRATEGY)*len(Ks)*len(models))\n",
    "for stopping_criteria in tqdm.tqdm(STOPPING_CRITERIA):\n",
    "    for answer_how in ANSWER_HOW:\n",
    "        for sampling_strategy in SAMPLING_STRATEGY:\n",
    "            for aggregation_strategy in AGGREGATION_STRATEGY:\n",
    "                for k in Ks:\n",
    "                    for model in tqdm.tqdm(models):\n",
    "                        current_dir = os.path.join(main_dir, stopping_criteria+\"_\"+answer_how+\"_\"+sampling_strategy+\"_\"+aggregation_strategy+\"_k\"+str(k), model, config)\n",
    "                        if os.path.exists(current_dir):\n",
    "                            file = \"generation_comparison_T_e_200_k_\"+str(k)+\".json\"\n",
    "                            file_path = os.path.join(current_dir, file)\n",
    "                            if os.path.exists(file_path):\n",
    "                                with open(file_path, \"r\") as f:\n",
    "                                    data = json.load(f)\n",
    "                                    exp_results.append({\n",
    "                                        \"stopping_criteria\": stopping_criteria,\n",
    "                                        \"answer_how\": answer_how,\n",
    "                                        \"sampling_strategy\": sampling_strategy,\n",
    "                                        \"aggregation_strategy\": aggregation_strategy,\n",
    "                                        \"k\": k,\n",
    "                                        \"model\": model,\n",
    "                                        \"accuracy\": data[\"embedding_mixture\"][\"accuracy\"],\n",
    "                                        # \"entropy\": compute_entropy(data[\"embedding_mixture\"]['phase_data']),\n",
    "                                        # \"length\": compute_length(data[\"embedding_mixture\"]['phase_data'])\n",
    "                            })\n",
    "          \n",
    "                        else:\n",
    "                            print(f\"Directory {current_dir} does not exist\")\n",
    "pd.DataFrame(exp_results).to_csv(\"compiled_results.csv\")"
   ]
  },
  {
   "cell_type": "code",
   "execution_count": null,
   "metadata": {},
   "outputs": [],
   "source": []
  },
  {
   "cell_type": "code",
   "execution_count": 12,
   "metadata": {},
   "outputs": [],
   "source": []
  },
  {
   "cell_type": "code",
   "execution_count": 13,
   "metadata": {},
   "outputs": [],
   "source": [
    "df = pd.read_csv(\"compiled_results.csv\")"
   ]
  },
  {
   "cell_type": "code",
   "execution_count": 14,
   "metadata": {},
   "outputs": [
    {
     "data": {
      "text/html": [
       "<div>\n",
       "<style scoped>\n",
       "    .dataframe tbody tr th:only-of-type {\n",
       "        vertical-align: middle;\n",
       "    }\n",
       "\n",
       "    .dataframe tbody tr th {\n",
       "        vertical-align: top;\n",
       "    }\n",
       "\n",
       "    .dataframe thead th {\n",
       "        text-align: right;\n",
       "    }\n",
       "</style>\n",
       "<table border=\"1\" class=\"dataframe\">\n",
       "  <thead>\n",
       "    <tr style=\"text-align: right;\">\n",
       "      <th></th>\n",
       "      <th>Unnamed: 0</th>\n",
       "      <th>stopping_criteria</th>\n",
       "      <th>answer_how</th>\n",
       "      <th>sampling_strategy</th>\n",
       "      <th>aggregation_strategy</th>\n",
       "      <th>k</th>\n",
       "      <th>model</th>\n",
       "      <th>accuracy</th>\n",
       "      <th>entropy</th>\n",
       "      <th>length</th>\n",
       "    </tr>\n",
       "  </thead>\n",
       "  <tbody>\n",
       "    <tr>\n",
       "      <th>7</th>\n",
       "      <td>7</td>\n",
       "      <td>end_token</td>\n",
       "      <td>answer_first</td>\n",
       "      <td>nucleus</td>\n",
       "      <td>weighted_sum</td>\n",
       "      <td>2</td>\n",
       "      <td>microsoft_phi_4_mini_instruct</td>\n",
       "      <td>0.68</td>\n",
       "      <td>0.524501</td>\n",
       "      <td>196.64</td>\n",
       "    </tr>\n",
       "    <tr>\n",
       "      <th>8</th>\n",
       "      <td>8</td>\n",
       "      <td>end_token</td>\n",
       "      <td>answer_first</td>\n",
       "      <td>nucleus</td>\n",
       "      <td>weighted_sum</td>\n",
       "      <td>2</td>\n",
       "      <td>microsoft_phi_4_mini_reasoning</td>\n",
       "      <td>0.60</td>\n",
       "      <td>0.114361</td>\n",
       "      <td>200.00</td>\n",
       "    </tr>\n",
       "    <tr>\n",
       "      <th>9</th>\n",
       "      <td>9</td>\n",
       "      <td>end_token</td>\n",
       "      <td>answer_first</td>\n",
       "      <td>nucleus</td>\n",
       "      <td>weighted_sum</td>\n",
       "      <td>2</td>\n",
       "      <td>Qwen_Qwen2_5_3B_Instruct</td>\n",
       "      <td>0.88</td>\n",
       "      <td>0.278717</td>\n",
       "      <td>200.00</td>\n",
       "    </tr>\n",
       "    <tr>\n",
       "      <th>10</th>\n",
       "      <td>10</td>\n",
       "      <td>end_token</td>\n",
       "      <td>answer_first</td>\n",
       "      <td>nucleus</td>\n",
       "      <td>weighted_sum</td>\n",
       "      <td>2</td>\n",
       "      <td>Qwen_Qwen2_5_0_5B_Instruct</td>\n",
       "      <td>0.28</td>\n",
       "      <td>0.287361</td>\n",
       "      <td>200.00</td>\n",
       "    </tr>\n",
       "    <tr>\n",
       "      <th>11</th>\n",
       "      <td>11</td>\n",
       "      <td>end_token</td>\n",
       "      <td>answer_first</td>\n",
       "      <td>nucleus</td>\n",
       "      <td>weighted_sum</td>\n",
       "      <td>2</td>\n",
       "      <td>Qwen_Qwen3_0_6B</td>\n",
       "      <td>0.48</td>\n",
       "      <td>0.347381</td>\n",
       "      <td>199.92</td>\n",
       "    </tr>\n",
       "    <tr>\n",
       "      <th>...</th>\n",
       "      <td>...</td>\n",
       "      <td>...</td>\n",
       "      <td>...</td>\n",
       "      <td>...</td>\n",
       "      <td>...</td>\n",
       "      <td>...</td>\n",
       "      <td>...</td>\n",
       "      <td>...</td>\n",
       "      <td>...</td>\n",
       "      <td>...</td>\n",
       "    </tr>\n",
       "    <tr>\n",
       "      <th>1325</th>\n",
       "      <td>1325</td>\n",
       "      <td>max_rounds</td>\n",
       "      <td>think_first</td>\n",
       "      <td>top_k</td>\n",
       "      <td>second_moment</td>\n",
       "      <td>2</td>\n",
       "      <td>Qwen_Qwen2_5_3B_Instruct</td>\n",
       "      <td>0.74</td>\n",
       "      <td>0.757274</td>\n",
       "      <td>200.00</td>\n",
       "    </tr>\n",
       "    <tr>\n",
       "      <th>1326</th>\n",
       "      <td>1326</td>\n",
       "      <td>max_rounds</td>\n",
       "      <td>think_first</td>\n",
       "      <td>top_k</td>\n",
       "      <td>second_moment</td>\n",
       "      <td>2</td>\n",
       "      <td>Qwen_Qwen2_5_0_5B_Instruct</td>\n",
       "      <td>0.12</td>\n",
       "      <td>0.896722</td>\n",
       "      <td>200.00</td>\n",
       "    </tr>\n",
       "    <tr>\n",
       "      <th>1327</th>\n",
       "      <td>1327</td>\n",
       "      <td>max_rounds</td>\n",
       "      <td>think_first</td>\n",
       "      <td>top_k</td>\n",
       "      <td>second_moment</td>\n",
       "      <td>2</td>\n",
       "      <td>Qwen_Qwen3_0_6B</td>\n",
       "      <td>0.02</td>\n",
       "      <td>0.649727</td>\n",
       "      <td>200.00</td>\n",
       "    </tr>\n",
       "    <tr>\n",
       "      <th>1328</th>\n",
       "      <td>1328</td>\n",
       "      <td>max_rounds</td>\n",
       "      <td>think_first</td>\n",
       "      <td>top_k</td>\n",
       "      <td>second_moment</td>\n",
       "      <td>2</td>\n",
       "      <td>Qwen_Qwen3_1_7B</td>\n",
       "      <td>0.76</td>\n",
       "      <td>0.234187</td>\n",
       "      <td>200.00</td>\n",
       "    </tr>\n",
       "    <tr>\n",
       "      <th>1329</th>\n",
       "      <td>1329</td>\n",
       "      <td>max_rounds</td>\n",
       "      <td>think_first</td>\n",
       "      <td>top_k</td>\n",
       "      <td>second_moment</td>\n",
       "      <td>2</td>\n",
       "      <td>Qwen_Qwen3_4B</td>\n",
       "      <td>0.86</td>\n",
       "      <td>0.821799</td>\n",
       "      <td>200.00</td>\n",
       "    </tr>\n",
       "  </tbody>\n",
       "</table>\n",
       "<p>336 rows × 10 columns</p>\n",
       "</div>"
      ],
      "text/plain": [
       "      Unnamed: 0 stopping_criteria    answer_how sampling_strategy  \\\n",
       "7              7         end_token  answer_first           nucleus   \n",
       "8              8         end_token  answer_first           nucleus   \n",
       "9              9         end_token  answer_first           nucleus   \n",
       "10            10         end_token  answer_first           nucleus   \n",
       "11            11         end_token  answer_first           nucleus   \n",
       "...          ...               ...           ...               ...   \n",
       "1325        1325        max_rounds   think_first             top_k   \n",
       "1326        1326        max_rounds   think_first             top_k   \n",
       "1327        1327        max_rounds   think_first             top_k   \n",
       "1328        1328        max_rounds   think_first             top_k   \n",
       "1329        1329        max_rounds   think_first             top_k   \n",
       "\n",
       "     aggregation_strategy  k                           model  accuracy  \\\n",
       "7            weighted_sum  2   microsoft_phi_4_mini_instruct      0.68   \n",
       "8            weighted_sum  2  microsoft_phi_4_mini_reasoning      0.60   \n",
       "9            weighted_sum  2        Qwen_Qwen2_5_3B_Instruct      0.88   \n",
       "10           weighted_sum  2      Qwen_Qwen2_5_0_5B_Instruct      0.28   \n",
       "11           weighted_sum  2                 Qwen_Qwen3_0_6B      0.48   \n",
       "...                   ... ..                             ...       ...   \n",
       "1325        second_moment  2        Qwen_Qwen2_5_3B_Instruct      0.74   \n",
       "1326        second_moment  2      Qwen_Qwen2_5_0_5B_Instruct      0.12   \n",
       "1327        second_moment  2                 Qwen_Qwen3_0_6B      0.02   \n",
       "1328        second_moment  2                 Qwen_Qwen3_1_7B      0.76   \n",
       "1329        second_moment  2                   Qwen_Qwen3_4B      0.86   \n",
       "\n",
       "       entropy  length  \n",
       "7     0.524501  196.64  \n",
       "8     0.114361  200.00  \n",
       "9     0.278717  200.00  \n",
       "10    0.287361  200.00  \n",
       "11    0.347381  199.92  \n",
       "...        ...     ...  \n",
       "1325  0.757274  200.00  \n",
       "1326  0.896722  200.00  \n",
       "1327  0.649727  200.00  \n",
       "1328  0.234187  200.00  \n",
       "1329  0.821799  200.00  \n",
       "\n",
       "[336 rows x 10 columns]"
      ]
     },
     "execution_count": 14,
     "metadata": {},
     "output_type": "execute_result"
    }
   ],
   "source": [
    "df[df['k']==2]"
   ]
  },
  {
   "cell_type": "code",
   "execution_count": 8,
   "metadata": {},
   "outputs": [],
   "source": [
    "models_05b = ['Qwen_Qwen2_5_0_5B_Instruct','Qwen_Qwen3_0_6B']\n",
    "models_15b = ['Qwen_Qwen3_1_7B']\n",
    "models_3b = ['Qwen_Qwen2_5_3B_Instruct',  'Qwen_Qwen3_4B','microsoft_phi_4_mini_instruct','microsoft_phi_4_mini_reasoning']\n"
   ]
  },
  {
   "cell_type": "code",
   "execution_count": 9,
   "metadata": {},
   "outputs": [],
   "source": [
    "df[df['model'].isin(models_05b)].sort_values(by='accuracy', ascending=False).to_excel(\"05b.xlsx\")\n",
    "df[df['model'].isin(models_15b)].sort_values(by='accuracy', ascending=False).to_excel(\"15b.xlsx\")\n",
    "df[df['model'].isin(models_3b)].sort_values(by='accuracy', ascending=False).to_excel(\"3b.xlsx\")"
   ]
  },
  {
   "cell_type": "code",
   "execution_count": null,
   "metadata": {},
   "outputs": [],
   "source": []
  }
 ],
 "metadata": {
  "kernelspec": {
   "display_name": "vinv",
   "language": "python",
   "name": "python3"
  },
  "language_info": {
   "codemirror_mode": {
    "name": "ipython",
    "version": 3
   },
   "file_extension": ".py",
   "mimetype": "text/x-python",
   "name": "python",
   "nbconvert_exporter": "python",
   "pygments_lexer": "ipython3",
   "version": "3.10.12"
  }
 },
 "nbformat": 4,
 "nbformat_minor": 2
}
